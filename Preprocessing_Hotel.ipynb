{
 "cells": [
  {
   "cell_type": "markdown",
   "id": "3258b209-cb1a-4cea-bacd-851fa23d6bde",
   "metadata": {},
   "source": [
    "# Investigate Hotel Business using Data Visualization\n",
    "## Rakamin Mini Project"
   ]
  },
  {
   "cell_type": "markdown",
   "id": "71613758-0ce8-4cad-a7cf-4277dcbe5d6d",
   "metadata": {},
   "source": [
    "## Data Preprocessing"
   ]
  },
  {
   "cell_type": "markdown",
   "id": "63a6b7ed-b450-4827-874d-a11be2d22d00",
   "metadata": {},
   "source": [
    "### Import Data and Library"
   ]
  },
  {
   "cell_type": "code",
   "execution_count": 1,
   "id": "1c3d4abc-fc34-40a4-b2a0-601d126d0eae",
   "metadata": {},
   "outputs": [],
   "source": [
    "import numpy as np\n",
    "import pandas as pd\n",
    "import matplotlib.pyplot as plt\n",
    "import seaborn as sns\n",
    "from matplotlib import rcParams\n",
    "import warnings\n",
    "warnings.filterwarnings('ignore')"
   ]
  },
  {
   "cell_type": "code",
   "execution_count": 4,
   "id": "aeaca1ab-6b6d-4a86-995e-0f98749b7b32",
   "metadata": {},
   "outputs": [
    {
     "data": {
      "text/html": [
       "<div>\n",
       "<style scoped>\n",
       "    .dataframe tbody tr th:only-of-type {\n",
       "        vertical-align: middle;\n",
       "    }\n",
       "\n",
       "    .dataframe tbody tr th {\n",
       "        vertical-align: top;\n",
       "    }\n",
       "\n",
       "    .dataframe thead th {\n",
       "        text-align: right;\n",
       "    }\n",
       "</style>\n",
       "<table border=\"1\" class=\"dataframe\">\n",
       "  <thead>\n",
       "    <tr style=\"text-align: right;\">\n",
       "      <th></th>\n",
       "      <th>hotel</th>\n",
       "      <th>is_canceled</th>\n",
       "      <th>lead_time</th>\n",
       "      <th>arrival_date_year</th>\n",
       "      <th>arrival_date_month</th>\n",
       "      <th>arrival_date_week_number</th>\n",
       "      <th>arrival_date_day_of_month</th>\n",
       "      <th>stays_in_weekend_nights</th>\n",
       "      <th>stays_in_weekdays_nights</th>\n",
       "      <th>adults</th>\n",
       "      <th>children</th>\n",
       "      <th>babies</th>\n",
       "      <th>meal</th>\n",
       "      <th>city</th>\n",
       "      <th>market_segment</th>\n",
       "      <th>distribution_channel</th>\n",
       "      <th>is_repeated_guest</th>\n",
       "      <th>previous_cancellations</th>\n",
       "      <th>previous_bookings_not_canceled</th>\n",
       "      <th>booking_changes</th>\n",
       "      <th>deposit_type</th>\n",
       "      <th>agent</th>\n",
       "      <th>company</th>\n",
       "      <th>days_in_waiting_list</th>\n",
       "      <th>customer_type</th>\n",
       "      <th>adr</th>\n",
       "      <th>required_car_parking_spaces</th>\n",
       "      <th>total_of_special_requests</th>\n",
       "      <th>reservation_status</th>\n",
       "    </tr>\n",
       "  </thead>\n",
       "  <tbody>\n",
       "    <tr>\n",
       "      <th>108889</th>\n",
       "      <td>City Hotel</td>\n",
       "      <td>0</td>\n",
       "      <td>62</td>\n",
       "      <td>2019</td>\n",
       "      <td>May</td>\n",
       "      <td>13</td>\n",
       "      <td>31</td>\n",
       "      <td>1</td>\n",
       "      <td>2</td>\n",
       "      <td>3</td>\n",
       "      <td>0.0</td>\n",
       "      <td>0</td>\n",
       "      <td>Breakfast</td>\n",
       "      <td>Kabupaten Bandung</td>\n",
       "      <td>Offline TA/TO</td>\n",
       "      <td>TA/TO</td>\n",
       "      <td>0</td>\n",
       "      <td>0</td>\n",
       "      <td>0</td>\n",
       "      <td>0</td>\n",
       "      <td>No Deposit</td>\n",
       "      <td>16.0</td>\n",
       "      <td>NaN</td>\n",
       "      <td>0</td>\n",
       "      <td>Personal</td>\n",
       "      <td>116.10</td>\n",
       "      <td>0</td>\n",
       "      <td>1</td>\n",
       "      <td>Check-Out</td>\n",
       "    </tr>\n",
       "    <tr>\n",
       "      <th>95310</th>\n",
       "      <td>City Hotel</td>\n",
       "      <td>0</td>\n",
       "      <td>46</td>\n",
       "      <td>2018</td>\n",
       "      <td>October</td>\n",
       "      <td>34</td>\n",
       "      <td>17</td>\n",
       "      <td>0</td>\n",
       "      <td>1</td>\n",
       "      <td>2</td>\n",
       "      <td>0.0</td>\n",
       "      <td>0</td>\n",
       "      <td>No Meal</td>\n",
       "      <td>Kota Yogyakarta</td>\n",
       "      <td>Online TA</td>\n",
       "      <td>TA/TO</td>\n",
       "      <td>0</td>\n",
       "      <td>0</td>\n",
       "      <td>0</td>\n",
       "      <td>0</td>\n",
       "      <td>No Deposit</td>\n",
       "      <td>9.0</td>\n",
       "      <td>NaN</td>\n",
       "      <td>0</td>\n",
       "      <td>Personal</td>\n",
       "      <td>125.10</td>\n",
       "      <td>0</td>\n",
       "      <td>2</td>\n",
       "      <td>Check-Out</td>\n",
       "    </tr>\n",
       "    <tr>\n",
       "      <th>54681</th>\n",
       "      <td>City Hotel</td>\n",
       "      <td>1</td>\n",
       "      <td>185</td>\n",
       "      <td>2018</td>\n",
       "      <td>September</td>\n",
       "      <td>30</td>\n",
       "      <td>23</td>\n",
       "      <td>1</td>\n",
       "      <td>1</td>\n",
       "      <td>2</td>\n",
       "      <td>0.0</td>\n",
       "      <td>0</td>\n",
       "      <td>No Meal</td>\n",
       "      <td>Kota Yogyakarta</td>\n",
       "      <td>Online TA</td>\n",
       "      <td>TA/TO</td>\n",
       "      <td>0</td>\n",
       "      <td>0</td>\n",
       "      <td>0</td>\n",
       "      <td>0</td>\n",
       "      <td>No Deposit</td>\n",
       "      <td>9.0</td>\n",
       "      <td>NaN</td>\n",
       "      <td>0</td>\n",
       "      <td>Personal</td>\n",
       "      <td>94.50</td>\n",
       "      <td>0</td>\n",
       "      <td>1</td>\n",
       "      <td>Canceled</td>\n",
       "    </tr>\n",
       "    <tr>\n",
       "      <th>5222</th>\n",
       "      <td>Resort Hotel</td>\n",
       "      <td>0</td>\n",
       "      <td>191</td>\n",
       "      <td>2018</td>\n",
       "      <td>June</td>\n",
       "      <td>17</td>\n",
       "      <td>22</td>\n",
       "      <td>1</td>\n",
       "      <td>2</td>\n",
       "      <td>2</td>\n",
       "      <td>0.0</td>\n",
       "      <td>0</td>\n",
       "      <td>Undefined</td>\n",
       "      <td>Kota Denpasar</td>\n",
       "      <td>Offline TA/TO</td>\n",
       "      <td>TA/TO</td>\n",
       "      <td>0</td>\n",
       "      <td>0</td>\n",
       "      <td>0</td>\n",
       "      <td>1</td>\n",
       "      <td>No Deposit</td>\n",
       "      <td>NaN</td>\n",
       "      <td>NaN</td>\n",
       "      <td>0</td>\n",
       "      <td>Family</td>\n",
       "      <td>85.33</td>\n",
       "      <td>0</td>\n",
       "      <td>0</td>\n",
       "      <td>Check-Out</td>\n",
       "    </tr>\n",
       "    <tr>\n",
       "      <th>38046</th>\n",
       "      <td>Resort Hotel</td>\n",
       "      <td>0</td>\n",
       "      <td>261</td>\n",
       "      <td>2019</td>\n",
       "      <td>August</td>\n",
       "      <td>26</td>\n",
       "      <td>28</td>\n",
       "      <td>2</td>\n",
       "      <td>8</td>\n",
       "      <td>2</td>\n",
       "      <td>0.0</td>\n",
       "      <td>0</td>\n",
       "      <td>Dinner</td>\n",
       "      <td>Kabupaten Bangka</td>\n",
       "      <td>Offline TA/TO</td>\n",
       "      <td>TA/TO</td>\n",
       "      <td>0</td>\n",
       "      <td>0</td>\n",
       "      <td>0</td>\n",
       "      <td>0</td>\n",
       "      <td>No Deposit</td>\n",
       "      <td>40.0</td>\n",
       "      <td>NaN</td>\n",
       "      <td>0</td>\n",
       "      <td>Contract</td>\n",
       "      <td>100.20</td>\n",
       "      <td>0</td>\n",
       "      <td>0</td>\n",
       "      <td>Check-Out</td>\n",
       "    </tr>\n",
       "  </tbody>\n",
       "</table>\n",
       "</div>"
      ],
      "text/plain": [
       "               hotel  is_canceled  lead_time  arrival_date_year  \\\n",
       "108889    City Hotel            0         62               2019   \n",
       "95310     City Hotel            0         46               2018   \n",
       "54681     City Hotel            1        185               2018   \n",
       "5222    Resort Hotel            0        191               2018   \n",
       "38046   Resort Hotel            0        261               2019   \n",
       "\n",
       "       arrival_date_month  arrival_date_week_number  \\\n",
       "108889                May                        13   \n",
       "95310             October                        34   \n",
       "54681           September                        30   \n",
       "5222                 June                        17   \n",
       "38046              August                        26   \n",
       "\n",
       "        arrival_date_day_of_month  stays_in_weekend_nights  \\\n",
       "108889                         31                        1   \n",
       "95310                          17                        0   \n",
       "54681                          23                        1   \n",
       "5222                           22                        1   \n",
       "38046                          28                        2   \n",
       "\n",
       "        stays_in_weekdays_nights  adults  children  babies       meal  \\\n",
       "108889                         2       3       0.0       0  Breakfast   \n",
       "95310                          1       2       0.0       0    No Meal   \n",
       "54681                          1       2       0.0       0    No Meal   \n",
       "5222                           2       2       0.0       0  Undefined   \n",
       "38046                          8       2       0.0       0     Dinner   \n",
       "\n",
       "                     city market_segment distribution_channel  \\\n",
       "108889  Kabupaten Bandung  Offline TA/TO                TA/TO   \n",
       "95310     Kota Yogyakarta      Online TA                TA/TO   \n",
       "54681     Kota Yogyakarta      Online TA                TA/TO   \n",
       "5222        Kota Denpasar  Offline TA/TO                TA/TO   \n",
       "38046    Kabupaten Bangka  Offline TA/TO                TA/TO   \n",
       "\n",
       "        is_repeated_guest  previous_cancellations  \\\n",
       "108889                  0                       0   \n",
       "95310                   0                       0   \n",
       "54681                   0                       0   \n",
       "5222                    0                       0   \n",
       "38046                   0                       0   \n",
       "\n",
       "        previous_bookings_not_canceled  booking_changes deposit_type  agent  \\\n",
       "108889                               0                0   No Deposit   16.0   \n",
       "95310                                0                0   No Deposit    9.0   \n",
       "54681                                0                0   No Deposit    9.0   \n",
       "5222                                 0                1   No Deposit    NaN   \n",
       "38046                                0                0   No Deposit   40.0   \n",
       "\n",
       "        company  days_in_waiting_list customer_type     adr  \\\n",
       "108889      NaN                     0      Personal  116.10   \n",
       "95310       NaN                     0      Personal  125.10   \n",
       "54681       NaN                     0      Personal   94.50   \n",
       "5222        NaN                     0        Family   85.33   \n",
       "38046       NaN                     0      Contract  100.20   \n",
       "\n",
       "        required_car_parking_spaces  total_of_special_requests  \\\n",
       "108889                            0                          1   \n",
       "95310                             0                          2   \n",
       "54681                             0                          1   \n",
       "5222                              0                          0   \n",
       "38046                             0                          0   \n",
       "\n",
       "       reservation_status  \n",
       "108889          Check-Out  \n",
       "95310           Check-Out  \n",
       "54681            Canceled  \n",
       "5222            Check-Out  \n",
       "38046           Check-Out  "
      ]
     },
     "execution_count": 4,
     "metadata": {},
     "output_type": "execute_result"
    }
   ],
   "source": [
    "df = pd.read_csv('hotel_bookings_data.csv')\n",
    "pd.set_option('display.max_columns', None)\n",
    "df.sample(5)"
   ]
  },
  {
   "cell_type": "code",
   "execution_count": 5,
   "id": "da71590e-d31b-4a92-9ae9-47e2a3f839d6",
   "metadata": {},
   "outputs": [
    {
     "name": "stdout",
     "output_type": "stream",
     "text": [
      "<class 'pandas.core.frame.DataFrame'>\n",
      "RangeIndex: 119390 entries, 0 to 119389\n",
      "Data columns (total 29 columns):\n",
      " #   Column                          Non-Null Count   Dtype  \n",
      "---  ------                          --------------   -----  \n",
      " 0   hotel                           119390 non-null  object \n",
      " 1   is_canceled                     119390 non-null  int64  \n",
      " 2   lead_time                       119390 non-null  int64  \n",
      " 3   arrival_date_year               119390 non-null  int64  \n",
      " 4   arrival_date_month              119390 non-null  object \n",
      " 5   arrival_date_week_number        119390 non-null  int64  \n",
      " 6   arrival_date_day_of_month       119390 non-null  int64  \n",
      " 7   stays_in_weekend_nights         119390 non-null  int64  \n",
      " 8   stays_in_weekdays_nights        119390 non-null  int64  \n",
      " 9   adults                          119390 non-null  int64  \n",
      " 10  children                        119386 non-null  float64\n",
      " 11  babies                          119390 non-null  int64  \n",
      " 12  meal                            119390 non-null  object \n",
      " 13  city                            118902 non-null  object \n",
      " 14  market_segment                  119390 non-null  object \n",
      " 15  distribution_channel            119390 non-null  object \n",
      " 16  is_repeated_guest               119390 non-null  int64  \n",
      " 17  previous_cancellations          119390 non-null  int64  \n",
      " 18  previous_bookings_not_canceled  119390 non-null  int64  \n",
      " 19  booking_changes                 119390 non-null  int64  \n",
      " 20  deposit_type                    119390 non-null  object \n",
      " 21  agent                           103050 non-null  float64\n",
      " 22  company                         6797 non-null    float64\n",
      " 23  days_in_waiting_list            119390 non-null  int64  \n",
      " 24  customer_type                   119390 non-null  object \n",
      " 25  adr                             119390 non-null  float64\n",
      " 26  required_car_parking_spaces     119390 non-null  int64  \n",
      " 27  total_of_special_requests       119390 non-null  int64  \n",
      " 28  reservation_status              119390 non-null  object \n",
      "dtypes: float64(4), int64(16), object(9)\n",
      "memory usage: 26.4+ MB\n"
     ]
    }
   ],
   "source": [
    "df.info()"
   ]
  },
  {
   "cell_type": "markdown",
   "id": "079ceb99-b393-475f-82e9-b7e70cf6acae",
   "metadata": {},
   "source": [
    "### Missing Value Treatment"
   ]
  },
  {
   "cell_type": "code",
   "execution_count": 6,
   "id": "cd33bac2-f373-40b9-a91a-38a44f769b26",
   "metadata": {},
   "outputs": [
    {
     "data": {
      "text/plain": [
       "hotel                                  0\n",
       "is_canceled                            0\n",
       "lead_time                              0\n",
       "arrival_date_year                      0\n",
       "arrival_date_month                     0\n",
       "arrival_date_week_number               0\n",
       "arrival_date_day_of_month              0\n",
       "stays_in_weekend_nights                0\n",
       "stays_in_weekdays_nights               0\n",
       "adults                                 0\n",
       "children                               4\n",
       "babies                                 0\n",
       "meal                                   0\n",
       "city                                 488\n",
       "market_segment                         0\n",
       "distribution_channel                   0\n",
       "is_repeated_guest                      0\n",
       "previous_cancellations                 0\n",
       "previous_bookings_not_canceled         0\n",
       "booking_changes                        0\n",
       "deposit_type                           0\n",
       "agent                              16340\n",
       "company                           112593\n",
       "days_in_waiting_list                   0\n",
       "customer_type                          0\n",
       "adr                                    0\n",
       "required_car_parking_spaces            0\n",
       "total_of_special_requests              0\n",
       "reservation_status                     0\n",
       "dtype: int64"
      ]
     },
     "execution_count": 6,
     "metadata": {},
     "output_type": "execute_result"
    }
   ],
   "source": [
    "df.isna().sum()"
   ]
  },
  {
   "cell_type": "code",
   "execution_count": 7,
   "id": "3f02cdd9-9b6d-44da-9c7d-88f36a5094f5",
   "metadata": {},
   "outputs": [
    {
     "data": {
      "image/png": "[encoded data removed]",
      "text/plain": [
       "<Figure size 2500x1000 with 2 Axes>"
      ]
     },
     "metadata": {},
     "output_type": "display_data"
    }
   ],
   "source": [
    "import missingno as msno\n",
    "msno.matrix(df)\n",
    "plt.title('Missing Value Mapping', fontsize = 30)\n",
    "plt.show()"
   ]
  },
  {
   "cell_type": "code",
   "execution_count": 8,
   "id": "9c9d7a61-98a2-4a4c-8f7a-f313edfb3beb",
   "metadata": {},
   "outputs": [
    {
     "data": {
      "text/html": [
       "<div>\n",
       "<style scoped>\n",
       "    .dataframe tbody tr th:only-of-type {\n",
       "        vertical-align: middle;\n",
       "    }\n",
       "\n",
       "    .dataframe tbody tr th {\n",
       "        vertical-align: top;\n",
       "    }\n",
       "\n",
       "    .dataframe thead th {\n",
       "        text-align: right;\n",
       "    }\n",
       "</style>\n",
       "<table border=\"1\" class=\"dataframe\">\n",
       "  <thead>\n",
       "    <tr style=\"text-align: right;\">\n",
       "      <th></th>\n",
       "      <th>column_name</th>\n",
       "      <th>sum_missing</th>\n",
       "      <th>percent_missing</th>\n",
       "    </tr>\n",
       "  </thead>\n",
       "  <tbody>\n",
       "    <tr>\n",
       "      <th>22</th>\n",
       "      <td>company</td>\n",
       "      <td>112593</td>\n",
       "      <td>94.31</td>\n",
       "    </tr>\n",
       "    <tr>\n",
       "      <th>21</th>\n",
       "      <td>agent</td>\n",
       "      <td>16340</td>\n",
       "      <td>13.69</td>\n",
       "    </tr>\n",
       "    <tr>\n",
       "      <th>13</th>\n",
       "      <td>city</td>\n",
       "      <td>488</td>\n",
       "      <td>0.41</td>\n",
       "    </tr>\n",
       "    <tr>\n",
       "      <th>10</th>\n",
       "      <td>children</td>\n",
       "      <td>4</td>\n",
       "      <td>0.00</td>\n",
       "    </tr>\n",
       "  </tbody>\n",
       "</table>\n",
       "</div>"
      ],
      "text/plain": [
       "   column_name  sum_missing  percent_missing\n",
       "22     company       112593            94.31\n",
       "21       agent        16340            13.69\n",
       "13        city          488             0.41\n",
       "10    children            4             0.00"
      ]
     },
     "execution_count": 8,
     "metadata": {},
     "output_type": "execute_result"
    }
   ],
   "source": [
    "sum_missing = df.isna().sum()\n",
    "percent_missing = round(df.isnull().sum() * 100 / len(df),2)\n",
    "missing_value_df = pd.DataFrame({'column_name': df.columns,\n",
    "                                 'sum_missing': sum_missing,\n",
    "                                 'percent_missing' : percent_missing}).reset_index(drop=True).sort_values(by=['percent_missing','sum_missing'], ascending=False)\n",
    "missing_value_df.head(4)"
   ]
  },
  {
   "cell_type": "markdown",
   "id": "61f22bdc-990a-4820-9289-d23f3b4628af",
   "metadata": {},
   "source": [
    "#### What the best treatment for the missing values?\n",
    "- The `company` column contains null values of as many as **112593 (94.31%)** . One thing is possible I can drop the column however, there is a chance I will lose the **vital information of 5.69%** of the data in that column. \n",
    "</br> So the best treatment is to **replace the null values with 0**. This also applies to the `agent` column.\n",
    "</br> For `city` with 488 missing values(0.41%). I'll replace in the missing values with `'Not Avaliable'`\n",
    "</br> Last but not least, I will drop 4 missing values in the `children` column."
   ]
  },
  {
   "cell_type": "code",
   "execution_count": 9,
   "id": "22a04e0b-57a1-4fff-9db7-dcf37d58afa3",
   "metadata": {},
   "outputs": [],
   "source": [
    "df2 = df.copy()"
   ]
  },
  {
   "cell_type": "code",
   "execution_count": 10,
   "id": "cdded8da-42a0-46b3-af41-1367da02b7ba",
   "metadata": {},
   "outputs": [],
   "source": [
    "val = {'company': 0, 'agent': 0, 'city':'Not Avaliable'}\n",
    "df2.fillna(value = val, inplace = True)\n",
    "\n",
    "df2.dropna(subset = ['children'], inplace = True)"
   ]
  },
  {
   "cell_type": "code",
   "execution_count": 11,
   "id": "14f3c4f2-e26e-4db0-8c53-f8277626b9ea",
   "metadata": {},
   "outputs": [
    {
     "data": {
      "text/plain": [
       "hotel                             0\n",
       "is_canceled                       0\n",
       "lead_time                         0\n",
       "arrival_date_year                 0\n",
       "arrival_date_month                0\n",
       "arrival_date_week_number          0\n",
       "arrival_date_day_of_month         0\n",
       "stays_in_weekend_nights           0\n",
       "stays_in_weekdays_nights          0\n",
       "adults                            0\n",
       "children                          0\n",
       "babies                            0\n",
       "meal                              0\n",
       "city                              0\n",
       "market_segment                    0\n",
       "distribution_channel              0\n",
       "is_repeated_guest                 0\n",
       "previous_cancellations            0\n",
       "previous_bookings_not_canceled    0\n",
       "booking_changes                   0\n",
       "deposit_type                      0\n",
       "agent                             0\n",
       "company                           0\n",
       "days_in_waiting_list              0\n",
       "customer_type                     0\n",
       "adr                               0\n",
       "required_car_parking_spaces       0\n",
       "total_of_special_requests         0\n",
       "reservation_status                0\n",
       "dtype: int64"
      ]
     },
     "execution_count": 11,
     "metadata": {},
     "output_type": "execute_result"
    }
   ],
   "source": [
    "df2.isna().sum()"
   ]
  },
  {
   "cell_type": "markdown",
   "id": "1cab42db-ac33-435e-97ff-238a01706895",
   "metadata": {},
   "source": [
    "### Duplicated Data"
   ]
  },
  {
   "cell_type": "code",
   "execution_count": 12,
   "id": "b61f8c6d-72cd-4e91-85c7-921c1f7767f5",
   "metadata": {},
   "outputs": [
    {
     "data": {
      "text/plain": [
       "33261"
      ]
     },
     "execution_count": 12,
     "metadata": {},
     "output_type": "execute_result"
    }
   ],
   "source": [
    "df2.duplicated().sum()"
   ]
  },
  {
   "cell_type": "markdown",
   "id": "9ac6f9e9-d675-48f5-a226-e008ea5dc97d",
   "metadata": {},
   "source": [
    "There are **33.261 Duplicated Rows** in this dataset, so I will drop them off "
   ]
  },
  {
   "cell_type": "code",
   "execution_count": 13,
   "id": "c6d7a705-b82e-4e0e-a968-210f9b1bca33",
   "metadata": {},
   "outputs": [],
   "source": [
    "df3 = df2.copy()"
   ]
  },
  {
   "cell_type": "code",
   "execution_count": 14,
   "id": "2726d2e5-d659-488e-8bb6-6b5e9142b1d4",
   "metadata": {},
   "outputs": [
    {
     "data": {
      "text/plain": [
       "0"
      ]
     },
     "execution_count": 14,
     "metadata": {},
     "output_type": "execute_result"
    }
   ],
   "source": [
    "df3.drop_duplicates(keep='first', inplace=True)\n",
    "df3.duplicated().sum()"
   ]
  },
  {
   "cell_type": "markdown",
   "id": "d7956597-154e-4a89-af29-1474a17be1e0",
   "metadata": {},
   "source": [
    "### Invalid and Inconsistent Data"
   ]
  },
  {
   "cell_type": "markdown",
   "id": "f3fd3a12-256d-4285-bc81-43234c5d62bc",
   "metadata": {},
   "source": [
    "#### Invalid Values"
   ]
  },
  {
   "cell_type": "code",
   "execution_count": 15,
   "id": "5e0b625a-16fe-4e3e-908a-77d6aa0231aa",
   "metadata": {},
   "outputs": [
    {
     "data": {
      "text/html": [
       "<div>\n",
       "<style scoped>\n",
       "    .dataframe tbody tr th:only-of-type {\n",
       "        vertical-align: middle;\n",
       "    }\n",
       "\n",
       "    .dataframe tbody tr th {\n",
       "        vertical-align: top;\n",
       "    }\n",
       "\n",
       "    .dataframe thead th {\n",
       "        text-align: right;\n",
       "    }\n",
       "</style>\n",
       "<table border=\"1\" class=\"dataframe\">\n",
       "  <thead>\n",
       "    <tr style=\"text-align: right;\">\n",
       "      <th></th>\n",
       "      <th>is_canceled</th>\n",
       "      <th>lead_time</th>\n",
       "      <th>arrival_date_year</th>\n",
       "      <th>arrival_date_week_number</th>\n",
       "      <th>arrival_date_day_of_month</th>\n",
       "      <th>stays_in_weekend_nights</th>\n",
       "      <th>stays_in_weekdays_nights</th>\n",
       "      <th>adults</th>\n",
       "      <th>children</th>\n",
       "      <th>babies</th>\n",
       "      <th>is_repeated_guest</th>\n",
       "      <th>previous_cancellations</th>\n",
       "      <th>previous_bookings_not_canceled</th>\n",
       "      <th>booking_changes</th>\n",
       "      <th>agent</th>\n",
       "      <th>company</th>\n",
       "      <th>days_in_waiting_list</th>\n",
       "      <th>adr</th>\n",
       "      <th>required_car_parking_spaces</th>\n",
       "      <th>total_of_special_requests</th>\n",
       "    </tr>\n",
       "  </thead>\n",
       "  <tbody>\n",
       "    <tr>\n",
       "      <th>count</th>\n",
       "      <td>86125.000000</td>\n",
       "      <td>86125.000000</td>\n",
       "      <td>86125.000000</td>\n",
       "      <td>86125.000000</td>\n",
       "      <td>86125.000000</td>\n",
       "      <td>86125.000000</td>\n",
       "      <td>86125.000000</td>\n",
       "      <td>86125.000000</td>\n",
       "      <td>86125.000000</td>\n",
       "      <td>86125.000000</td>\n",
       "      <td>86125.000000</td>\n",
       "      <td>86125.000000</td>\n",
       "      <td>86125.000000</td>\n",
       "      <td>86125.000000</td>\n",
       "      <td>86125.000000</td>\n",
       "      <td>86125.000000</td>\n",
       "      <td>86125.000000</td>\n",
       "      <td>86125.000000</td>\n",
       "      <td>86125.000000</td>\n",
       "      <td>86125.000000</td>\n",
       "    </tr>\n",
       "    <tr>\n",
       "      <th>mean</th>\n",
       "      <td>0.275553</td>\n",
       "      <td>79.249765</td>\n",
       "      <td>2018.215524</td>\n",
       "      <td>26.796180</td>\n",
       "      <td>15.806943</td>\n",
       "      <td>1.009765</td>\n",
       "      <td>2.633242</td>\n",
       "      <td>1.878537</td>\n",
       "      <td>0.140284</td>\n",
       "      <td>0.010984</td>\n",
       "      <td>0.039501</td>\n",
       "      <td>0.030572</td>\n",
       "      <td>0.186578</td>\n",
       "      <td>0.272000</td>\n",
       "      <td>81.202671</td>\n",
       "      <td>10.800522</td>\n",
       "      <td>0.645144</td>\n",
       "      <td>106.637686</td>\n",
       "      <td>0.085237</td>\n",
       "      <td>0.705033</td>\n",
       "    </tr>\n",
       "    <tr>\n",
       "      <th>std</th>\n",
       "      <td>0.446795</td>\n",
       "      <td>85.499178</td>\n",
       "      <td>0.683914</td>\n",
       "      <td>13.675397</td>\n",
       "      <td>8.840375</td>\n",
       "      <td>1.033409</td>\n",
       "      <td>2.058326</td>\n",
       "      <td>0.627560</td>\n",
       "      <td>0.458347</td>\n",
       "      <td>0.114424</td>\n",
       "      <td>0.194784</td>\n",
       "      <td>0.371474</td>\n",
       "      <td>1.744445</td>\n",
       "      <td>0.729544</td>\n",
       "      <td>109.965348</td>\n",
       "      <td>53.485626</td>\n",
       "      <td>9.282913</td>\n",
       "      <td>55.173794</td>\n",
       "      <td>0.283076</td>\n",
       "      <td>0.833531</td>\n",
       "    </tr>\n",
       "    <tr>\n",
       "      <th>min</th>\n",
       "      <td>0.000000</td>\n",
       "      <td>0.000000</td>\n",
       "      <td>2017.000000</td>\n",
       "      <td>1.000000</td>\n",
       "      <td>1.000000</td>\n",
       "      <td>0.000000</td>\n",
       "      <td>0.000000</td>\n",
       "      <td>0.000000</td>\n",
       "      <td>0.000000</td>\n",
       "      <td>0.000000</td>\n",
       "      <td>0.000000</td>\n",
       "      <td>0.000000</td>\n",
       "      <td>0.000000</td>\n",
       "      <td>0.000000</td>\n",
       "      <td>0.000000</td>\n",
       "      <td>0.000000</td>\n",
       "      <td>0.000000</td>\n",
       "      <td>-6.380000</td>\n",
       "      <td>0.000000</td>\n",
       "      <td>0.000000</td>\n",
       "    </tr>\n",
       "    <tr>\n",
       "      <th>25%</th>\n",
       "      <td>0.000000</td>\n",
       "      <td>11.000000</td>\n",
       "      <td>2018.000000</td>\n",
       "      <td>16.000000</td>\n",
       "      <td>8.000000</td>\n",
       "      <td>0.000000</td>\n",
       "      <td>1.000000</td>\n",
       "      <td>2.000000</td>\n",
       "      <td>0.000000</td>\n",
       "      <td>0.000000</td>\n",
       "      <td>0.000000</td>\n",
       "      <td>0.000000</td>\n",
       "      <td>0.000000</td>\n",
       "      <td>0.000000</td>\n",
       "      <td>9.000000</td>\n",
       "      <td>0.000000</td>\n",
       "      <td>0.000000</td>\n",
       "      <td>72.250000</td>\n",
       "      <td>0.000000</td>\n",
       "      <td>0.000000</td>\n",
       "    </tr>\n",
       "    <tr>\n",
       "      <th>50%</th>\n",
       "      <td>0.000000</td>\n",
       "      <td>49.000000</td>\n",
       "      <td>2018.000000</td>\n",
       "      <td>27.000000</td>\n",
       "      <td>16.000000</td>\n",
       "      <td>1.000000</td>\n",
       "      <td>2.000000</td>\n",
       "      <td>2.000000</td>\n",
       "      <td>0.000000</td>\n",
       "      <td>0.000000</td>\n",
       "      <td>0.000000</td>\n",
       "      <td>0.000000</td>\n",
       "      <td>0.000000</td>\n",
       "      <td>0.000000</td>\n",
       "      <td>9.000000</td>\n",
       "      <td>0.000000</td>\n",
       "      <td>0.000000</td>\n",
       "      <td>98.750000</td>\n",
       "      <td>0.000000</td>\n",
       "      <td>1.000000</td>\n",
       "    </tr>\n",
       "    <tr>\n",
       "      <th>75%</th>\n",
       "      <td>1.000000</td>\n",
       "      <td>124.000000</td>\n",
       "      <td>2019.000000</td>\n",
       "      <td>37.000000</td>\n",
       "      <td>23.000000</td>\n",
       "      <td>2.000000</td>\n",
       "      <td>4.000000</td>\n",
       "      <td>2.000000</td>\n",
       "      <td>0.000000</td>\n",
       "      <td>0.000000</td>\n",
       "      <td>0.000000</td>\n",
       "      <td>0.000000</td>\n",
       "      <td>0.000000</td>\n",
       "      <td>0.000000</td>\n",
       "      <td>240.000000</td>\n",
       "      <td>0.000000</td>\n",
       "      <td>0.000000</td>\n",
       "      <td>134.520000</td>\n",
       "      <td>0.000000</td>\n",
       "      <td>1.000000</td>\n",
       "    </tr>\n",
       "    <tr>\n",
       "      <th>max</th>\n",
       "      <td>1.000000</td>\n",
       "      <td>737.000000</td>\n",
       "      <td>2019.000000</td>\n",
       "      <td>53.000000</td>\n",
       "      <td>31.000000</td>\n",
       "      <td>19.000000</td>\n",
       "      <td>50.000000</td>\n",
       "      <td>55.000000</td>\n",
       "      <td>10.000000</td>\n",
       "      <td>10.000000</td>\n",
       "      <td>1.000000</td>\n",
       "      <td>26.000000</td>\n",
       "      <td>72.000000</td>\n",
       "      <td>21.000000</td>\n",
       "      <td>535.000000</td>\n",
       "      <td>543.000000</td>\n",
       "      <td>391.000000</td>\n",
       "      <td>5400.000000</td>\n",
       "      <td>8.000000</td>\n",
       "      <td>5.000000</td>\n",
       "    </tr>\n",
       "  </tbody>\n",
       "</table>\n",
       "</div>"
      ],
      "text/plain": [
       "        is_canceled     lead_time  arrival_date_year  \\\n",
       "count  86125.000000  86125.000000       86125.000000   \n",
       "mean       0.275553     79.249765        2018.215524   \n",
       "std        0.446795     85.499178           0.683914   \n",
       "min        0.000000      0.000000        2017.000000   \n",
       "25%        0.000000     11.000000        2018.000000   \n",
       "50%        0.000000     49.000000        2018.000000   \n",
       "75%        1.000000    124.000000        2019.000000   \n",
       "max        1.000000    737.000000        2019.000000   \n",
       "\n",
       "       arrival_date_week_number  arrival_date_day_of_month  \\\n",
       "count              86125.000000               86125.000000   \n",
       "mean                  26.796180                  15.806943   \n",
       "std                   13.675397                   8.840375   \n",
       "min                    1.000000                   1.000000   \n",
       "25%                   16.000000                   8.000000   \n",
       "50%                   27.000000                  16.000000   \n",
       "75%                   37.000000                  23.000000   \n",
       "max                   53.000000                  31.000000   \n",
       "\n",
       "       stays_in_weekend_nights  stays_in_weekdays_nights        adults  \\\n",
       "count             86125.000000              86125.000000  86125.000000   \n",
       "mean                  1.009765                  2.633242      1.878537   \n",
       "std                   1.033409                  2.058326      0.627560   \n",
       "min                   0.000000                  0.000000      0.000000   \n",
       "25%                   0.000000                  1.000000      2.000000   \n",
       "50%                   1.000000                  2.000000      2.000000   \n",
       "75%                   2.000000                  4.000000      2.000000   \n",
       "max                  19.000000                 50.000000     55.000000   \n",
       "\n",
       "           children        babies  is_repeated_guest  previous_cancellations  \\\n",
       "count  86125.000000  86125.000000       86125.000000            86125.000000   \n",
       "mean       0.140284      0.010984           0.039501                0.030572   \n",
       "std        0.458347      0.114424           0.194784                0.371474   \n",
       "min        0.000000      0.000000           0.000000                0.000000   \n",
       "25%        0.000000      0.000000           0.000000                0.000000   \n",
       "50%        0.000000      0.000000           0.000000                0.000000   \n",
       "75%        0.000000      0.000000           0.000000                0.000000   \n",
       "max       10.000000     10.000000           1.000000               26.000000   \n",
       "\n",
       "       previous_bookings_not_canceled  booking_changes         agent  \\\n",
       "count                    86125.000000     86125.000000  86125.000000   \n",
       "mean                         0.186578         0.272000     81.202671   \n",
       "std                          1.744445         0.729544    109.965348   \n",
       "min                          0.000000         0.000000      0.000000   \n",
       "25%                          0.000000         0.000000      9.000000   \n",
       "50%                          0.000000         0.000000      9.000000   \n",
       "75%                          0.000000         0.000000    240.000000   \n",
       "max                         72.000000        21.000000    535.000000   \n",
       "\n",
       "            company  days_in_waiting_list           adr  \\\n",
       "count  86125.000000          86125.000000  86125.000000   \n",
       "mean      10.800522              0.645144    106.637686   \n",
       "std       53.485626              9.282913     55.173794   \n",
       "min        0.000000              0.000000     -6.380000   \n",
       "25%        0.000000              0.000000     72.250000   \n",
       "50%        0.000000              0.000000     98.750000   \n",
       "75%        0.000000              0.000000    134.520000   \n",
       "max      543.000000            391.000000   5400.000000   \n",
       "\n",
       "       required_car_parking_spaces  total_of_special_requests  \n",
       "count                 86125.000000               86125.000000  \n",
       "mean                      0.085237                   0.705033  \n",
       "std                       0.283076                   0.833531  \n",
       "min                       0.000000                   0.000000  \n",
       "25%                       0.000000                   0.000000  \n",
       "50%                       0.000000                   1.000000  \n",
       "75%                       0.000000                   1.000000  \n",
       "max                       8.000000                   5.000000  "
      ]
     },
     "execution_count": 15,
     "metadata": {},
     "output_type": "execute_result"
    }
   ],
   "source": [
    "df3.describe()"
   ]
  },
  {
   "cell_type": "markdown",
   "id": "bee7e7a7-11ae-4355-982d-33d58e5944c7",
   "metadata": {},
   "source": [
    "At first, it can be seen that this dataset has outliers in this dataset. We will discuss outliers at the next point.\n",
    "<br> What I wat to underline here is the `adults` column where the MIN value is 0, which is unlikely because children cannot book rooms without adults. So, I'm going to drop rows where the `adults` column is 0."
   ]
  },
  {
   "cell_type": "code",
   "execution_count": 16,
   "id": "5c1ea43e-5238-41ba-ad48-c461a3a57b12",
   "metadata": {},
   "outputs": [],
   "source": [
    "df4=df3.copy()"
   ]
  },
  {
   "cell_type": "code",
   "execution_count": 17,
   "id": "d114ab60-be00-4e57-b04d-0a500b35cf9f",
   "metadata": {},
   "outputs": [
    {
     "data": {
      "text/plain": [
       "0"
      ]
     },
     "execution_count": 17,
     "metadata": {},
     "output_type": "execute_result"
    }
   ],
   "source": [
    "df4.drop(df4[df4['adults'] == 0].index, inplace=True)\n",
    "len(df4[df4['adults']==0])"
   ]
  },
  {
   "cell_type": "markdown",
   "id": "cc45be66-7c3c-403c-a6b5-a61c78114eda",
   "metadata": {},
   "source": [
    "#### Inconsistent Values"
   ]
  },
  {
   "cell_type": "code",
   "execution_count": 18,
   "id": "b228696c-e3d7-4a04-b3fc-9c6331a751f1",
   "metadata": {},
   "outputs": [],
   "source": [
    "df5=df4.copy()"
   ]
  },
  {
   "cell_type": "code",
   "execution_count": 19,
   "id": "24d59b84-2334-4329-ae35-51c92d8dbacf",
   "metadata": {},
   "outputs": [],
   "source": [
    "#Grouping the categorical features\n",
    "cats = ['hotel', 'is_canceled', 'meal', 'city',\n",
    "        'market_segment', 'distribution_channel',\n",
    "        'is_repeated_guest', 'deposit_type',\n",
    "        'customer_type', 'reservation_status']"
   ]
  },
  {
   "cell_type": "code",
   "execution_count": 20,
   "id": "89f0536f-3a67-43c5-8bc1-e4c84d440b14",
   "metadata": {},
   "outputs": [
    {
     "name": "stdout",
     "output_type": "stream",
     "text": [
      "Value count column hotel:\n",
      "['Resort Hotel' 'City Hotel']\n",
      "\n",
      "Value count column is_canceled:\n",
      "[0 1]\n",
      "\n",
      "Value count column meal:\n",
      "['Breakfast' 'Full Board' 'Dinner' 'No Meal' 'Undefined']\n",
      "\n",
      "Value count column city:\n",
      "['Kota Denpasar' 'Kabupaten Bangka' 'Kabupaten Sleman' 'Kota Batu'\n",
      " 'Kota Malang' 'Kota Yogyakarta' 'Not Avaliable' 'Kabupaten Tangerang'\n",
      " 'Kota Semarang' 'Kota Serang' 'Kota Tangerang' 'Kota Bogor'\n",
      " 'Kabupaten Bandung' 'Kabupaten Magelang' 'Kabupaten Sumedang'\n",
      " 'Kota Jakarta Timur' 'Kabupaten Purwakarta' 'Kabupaten Kepulauan Seribu'\n",
      " 'Kabupaten Belitung' 'Kota Jakarta Pusat' 'Kota Jakarta Selatan'\n",
      " 'Kota Surabaya' 'Kota Jakarta Utara' 'Kota Gorontalo' 'Kota Jambi'\n",
      " 'Kota Jakarta Barat' 'Kota Bengkulu' 'Kabupaten Bandung Barat'\n",
      " 'Kabupaten Bekasi' 'Kabupaten Bogor' 'Kabupaten Ciamis'\n",
      " 'Kabupaten Cianjur' 'Kabupaten Cirebon' 'Kota Cimahi'\n",
      " 'Kabupaten Indramayu' 'Kabupaten Karawang' 'Kabupaten Kuningan'\n",
      " 'Kabupaten Majalengka' 'Kabupaten Serang' 'Kota Pangkal Pinang'\n",
      " 'Kabupaten Subang' 'Kabupaten Sukabumi' 'Kabupaten Garut'\n",
      " 'Kabupaten Tasikmalaya' 'Kota Bandung' 'Kota Banjar' 'Kota Bekasi'\n",
      " 'Kabupaten Pandeglang' 'Kabupaten Pangandaran' 'Kota Cirebon'\n",
      " 'Kota Depok' 'Kota Sukabumi' 'Kota Tasikmalaya' 'Kabupaten Banjarnegara'\n",
      " 'Kabupaten Banyumas' 'Kabupaten Batang' 'Kabupaten Blora'\n",
      " 'Kabupaten Boyolali' 'Kabupaten Brebes' 'Kabupaten Cilacap'\n",
      " 'Kabupaten Demak' 'Kabupaten Grobogan' 'Kabupaten Jepara'\n",
      " 'Kabupaten Karanganyar' 'Kabupaten Kebumen' 'Kabupaten Kendal'\n",
      " 'Kabupaten Klaten' 'Kabupaten Kudus' 'Kota Kediri' 'Kabupaten Pati'\n",
      " 'Kabupaten Pekalongan' 'Kabupaten Pemalang' 'Kabupaten Purbalingga'\n",
      " 'Kabupaten Purworejo' 'Kabupaten Rembang' 'Kabupaten Semarang'\n",
      " 'Kabupaten Sragen' 'Kabupaten Sukoharjo' 'Kabupaten Tegal'\n",
      " 'Kabupaten Temanggung' 'Kabupaten Wonogiri' 'Kabupaten Wonosobo'\n",
      " 'Kota Magelang' 'Kota Pekalongan' 'Kota Salatiga' 'Kabupaten Bantul'\n",
      " 'Kota Surakarta' 'Kota Tegal' 'Kabupaten Bangkalan'\n",
      " 'Kabupaten Banyuwangi' 'Kabupaten Blitar' 'Kabupaten Bojonegoro'\n",
      " 'Kabupaten Bondowoso' 'Kabupaten Gresik' 'Kabupaten Jember'\n",
      " 'Kabupaten Jombang' 'Kabupaten Kediri' 'Kabupaten Lamongan'\n",
      " 'Kabupaten Lumajang' 'Kabupaten Madiun' 'Kabupaten Magetan'\n",
      " 'Kabupaten Kerinci' 'Kabupaten Mojokerto' 'Kabupaten Nganjuk'\n",
      " 'Kabupaten Ngawi' 'Kabupaten Pacitan' 'Kabupaten Pamekasan'\n",
      " 'Kabupaten Pasuruan' 'Kabupaten Ponorogo' 'Kabupaten Probolinggo'\n",
      " 'Kabupaten Sampang' 'Kabupaten Sidoarjo' 'Kabupaten Situbondo'\n",
      " 'Kabupaten Sumenep' 'Kabupaten Trenggalek' 'Kabupaten Tuban'\n",
      " 'Kabupaten Tulungagung' 'Kabupaten Gunung Kidul' 'Kota Blitar'\n",
      " 'Kota Tangerang Selatan' 'Kota Madiun' 'Kota Cilegon' 'Kota Mojokerto'\n",
      " 'Kota Pasuruan' 'Kota Probolinggo' 'Kabupaten Malang'\n",
      " 'Kabupaten Kapuas Hulu' 'Kabupaten Ketapang' 'Kota Pontianak'\n",
      " 'Kabupaten Banjar' 'Kabupaten Barito Kuala' 'Kota Banjarbaru'\n",
      " 'Kota Banjarmasin' 'Kabupaten Kapuas' 'Kabupaten Katingan'\n",
      " 'Kabupaten Kotawaringin Barat' 'Kabupaten Kotawaringin Timur'\n",
      " 'Kabupaten Musi Banyuasin' 'Kabupaten Murung Raya' 'Kota Palembang'\n",
      " 'Kabupaten Seruyan' 'Kabupaten Sukamara' 'Kota Palangka Raya'\n",
      " 'Kota Balikpapan' 'Kota Bontang' 'Kota Samarinda' 'Kabupaten Berau'\n",
      " 'Kabupaten Kutai Barat' 'Kota Tarakan' 'Kota Batam'\n",
      " 'Kabupaten Pesisir Barat' 'Kabupaten Pringsewu' 'Kota Bandar Lampung'\n",
      " 'Kota Lampung Timur' 'Kota Ambon' 'Kabupaten Kepulauan Aru'\n",
      " 'Kabupaten Maluku Barat Daya' 'Kabupaten Maluku Tengah'\n",
      " 'Kabupaten Maluku Tenggara' 'Kabupaten Maluku Tenggara Barat'\n",
      " 'Kabupaten Halmahera Selatan' 'Kota Ternate' 'Kota Tidore Kepulauan'\n",
      " 'Kabupaten Aceh Jaya' 'Kota Banda Aceh' 'Kota Lhokseumawe' 'Kota Sabang'\n",
      " 'Kabupaten Lombok Barat' 'Kabupaten Sumbawa' 'Kota Mataram'\n",
      " 'Kabupaten Flores Timur' 'Kabupaten Timor Tengah Selatan' 'Kota Jayapura'\n",
      " 'Kota Bukittinggi' 'Kota Padang' 'Kabupaten Nias' 'Kota Binjai' 'Medan']\n",
      "\n",
      "Value count column market_segment:\n",
      "['Direct' 'Corporate' 'Online TA' 'Offline TA/TO' 'Complementary' 'Groups'\n",
      " 'Aviation']\n",
      "\n",
      "Value count column distribution_channel:\n",
      "['Direct' 'Corporate' 'TA/TO' 'Undefined' 'GDS']\n",
      "\n",
      "Value count column is_repeated_guest:\n",
      "[0 1]\n",
      "\n",
      "Value count column deposit_type:\n",
      "['No Deposit' 'Refundable' 'Non Refund']\n",
      "\n",
      "Value count column customer_type:\n",
      "['Personal' 'Contract' 'Family' 'Bussiness']\n",
      "\n",
      "Value count column reservation_status:\n",
      "['Check-Out' 'Canceled' 'No-Show']\n",
      "\n"
     ]
    }
   ],
   "source": [
    "for col in cats:\n",
    "    unique_values = df5[col].unique()\n",
    "    print(f'''Value count column {col}:''')\n",
    "    print(f\"{unique_values}\")\n",
    "    print()"
   ]
  },
  {
   "cell_type": "code",
   "execution_count": 21,
   "id": "b351f940-edce-4997-ba6e-e7918eabdd7d",
   "metadata": {},
   "outputs": [
    {
     "data": {
      "text/html": [
       "<div>\n",
       "<style scoped>\n",
       "    .dataframe tbody tr th:only-of-type {\n",
       "        vertical-align: middle;\n",
       "    }\n",
       "\n",
       "    .dataframe tbody tr th {\n",
       "        vertical-align: top;\n",
       "    }\n",
       "\n",
       "    .dataframe thead th {\n",
       "        text-align: right;\n",
       "    }\n",
       "</style>\n",
       "<table border=\"1\" class=\"dataframe\">\n",
       "  <thead>\n",
       "    <tr style=\"text-align: right;\">\n",
       "      <th></th>\n",
       "      <th>distribution_channel</th>\n",
       "    </tr>\n",
       "  </thead>\n",
       "  <tbody>\n",
       "    <tr>\n",
       "      <th>TA/TO</th>\n",
       "      <td>67843</td>\n",
       "    </tr>\n",
       "    <tr>\n",
       "      <th>Direct</th>\n",
       "      <td>12784</td>\n",
       "    </tr>\n",
       "    <tr>\n",
       "      <th>Corporate</th>\n",
       "      <td>4936</td>\n",
       "    </tr>\n",
       "    <tr>\n",
       "      <th>GDS</th>\n",
       "      <td>178</td>\n",
       "    </tr>\n",
       "    <tr>\n",
       "      <th>Undefined</th>\n",
       "      <td>1</td>\n",
       "    </tr>\n",
       "  </tbody>\n",
       "</table>\n",
       "</div>"
      ],
      "text/plain": [
       "           distribution_channel\n",
       "TA/TO                     67843\n",
       "Direct                    12784\n",
       "Corporate                  4936\n",
       "GDS                         178\n",
       "Undefined                     1"
      ]
     },
     "execution_count": 21,
     "metadata": {},
     "output_type": "execute_result"
    }
   ],
   "source": [
    "df5['distribution_channel'].value_counts().to_frame()"
   ]
  },
  {
   "cell_type": "markdown",
   "id": "932b52d5-d4cf-4a76-a584-ee2b723076e5",
   "metadata": {},
   "source": [
    "In the `meal` column there are 5 values namely `['Breakfast' 'Full Board' 'Dinner' 'No Meal' 'Undefined']`\n",
    "<br> For convenience, the value `Undefined` will be changed to `No Meal`.\n",
    "<br> On the other hand, for the `distribution_channel` columns there are `'Undefined'` values, so I'm going to drop it because there is only one row that has value `'Undefined'`"
   ]
  },
  {
   "cell_type": "code",
   "execution_count": 22,
   "id": "6a45c44b-a07f-4e88-8b8c-3d2c446d89c7",
   "metadata": {},
   "outputs": [],
   "source": [
    "df5.drop(df5[df5['distribution_channel'] == 'Undefined'].index, inplace=True)\n",
    "df5['meal'].replace(\"Undefined\", \"No Meal\", inplace=True)"
   ]
  },
  {
   "cell_type": "code",
   "execution_count": 23,
   "id": "cd59a359-c28a-4dc8-8248-2b98e4a5d1c9",
   "metadata": {},
   "outputs": [
    {
     "data": {
      "text/plain": [
       "array(['Breakfast', 'Full Board', 'Dinner', 'No Meal'], dtype=object)"
      ]
     },
     "execution_count": 23,
     "metadata": {},
     "output_type": "execute_result"
    }
   ],
   "source": [
    "df5['meal'].unique()"
   ]
  },
  {
   "cell_type": "code",
   "execution_count": 24,
   "id": "636b5336-cc41-4af8-aa40-956a79737870",
   "metadata": {},
   "outputs": [
    {
     "data": {
      "text/plain": [
       "array(['Direct', 'Corporate', 'TA/TO', 'GDS'], dtype=object)"
      ]
     },
     "execution_count": 24,
     "metadata": {},
     "output_type": "execute_result"
    }
   ],
   "source": [
    "df5['distribution_channel'].unique()"
   ]
  },
  {
   "cell_type": "markdown",
   "id": "0b4a64e7-1548-4190-be74-05f30135a9c6",
   "metadata": {},
   "source": [
    "### Redundant Columns"
   ]
  },
  {
   "cell_type": "markdown",
   "id": "cf901cc1-7f7c-4586-abb3-0ca1a3e44d34",
   "metadata": {},
   "source": [
    "There are some redundant columns in this dataset, such as: \n",
    "1. Columns `'babies'`can be merge to `'children'` and adding new column as `'Total_guests'`by `'adults'` + `'children'`\n",
    "2. Merging `'arrival_date_day_of_month'`, `'arrival_date_month'`and`'arrival_date_year' ` to create `'arrival_date'` column and changing its datatype to datetime\n",
    "3. Create `'total_nights'` by `'stays_in_weekend_nights'` + `'stays_in_weekdays_nights'`"
   ]
  },
  {
   "cell_type": "code",
   "execution_count": 26,
   "id": "6efce8cb-fc3e-44b4-851c-8138c8c2ea8e",
   "metadata": {},
   "outputs": [],
   "source": [
    "df6 = df5.copy()"
   ]
  },
  {
   "cell_type": "code",
   "execution_count": 44,
   "id": "372f04b3-7433-4be6-befd-7e7156166b0c",
   "metadata": {},
   "outputs": [],
   "source": [
    "df7= df5.copy()"
   ]
  },
  {
   "cell_type": "markdown",
   "id": "392c16c3-09c4-4426-a185-fe594289526a",
   "metadata": {},
   "source": [
    "#### 'Total_guests'"
   ]
  },
  {
   "cell_type": "code",
   "execution_count": 45,
   "id": "bf5ea059-2c35-483b-b3f2-2dd3cad15a09",
   "metadata": {},
   "outputs": [],
   "source": [
    "#Changing datatype from float to int\n",
    "df7['children'] = df7['children'].astype(int)"
   ]
  },
  {
   "cell_type": "code",
   "execution_count": 46,
   "id": "8697a090-47a8-492a-8198-76c9ab9efc24",
   "metadata": {},
   "outputs": [],
   "source": [
    "#Merging Babies to Children\n",
    "df7['children']=df7['children']+df7['babies']"
   ]
  },
  {
   "cell_type": "code",
   "execution_count": 47,
   "id": "e4181bf2-356f-43d5-a494-3851690feb60",
   "metadata": {},
   "outputs": [],
   "source": [
    "df7['total_guests'] = df7['adults'] + df7['children']"
   ]
  },
  {
   "cell_type": "code",
   "execution_count": 49,
   "id": "097929d1-c413-4f1c-ab6d-9f44ff45fd9c",
   "metadata": {},
   "outputs": [],
   "source": [
    "# dropping rows that include 0 Total Guests\n",
    "df7 = df7[df7['total_guests'] != 0]"
   ]
  },
  {
   "cell_type": "markdown",
   "id": "0041c416-6e6b-4faa-8437-8d6448550f34",
   "metadata": {},
   "source": [
    "#### 'arrival_date'"
   ]
  },
  {
   "cell_type": "code",
   "execution_count": 52,
   "id": "5812d6a9-5c82-445f-a1c7-1c2988e60c2d",
   "metadata": {},
   "outputs": [],
   "source": [
    "# Converting datatypes to string\n",
    "df7['arrival_date_year'] = df7['arrival_date_year'].astype('str')\n",
    "df7['arrival_date_month'] = df7['arrival_date_month'].astype('str')\n",
    "df7['arrival_date_day_of_month'] = df7['arrival_date_day_of_month'].astype('str')"
   ]
  },
  {
   "cell_type": "code",
   "execution_count": 54,
   "id": "2518405a-0aac-4b46-8d8e-a9adafbc3f1b",
   "metadata": {},
   "outputs": [],
   "source": [
    "# Creating arrival_date column and changing its datatype to datetime\n",
    "\n",
    "df7['arrival_date'] = df7['arrival_date_day_of_month'] + '-' + df7['arrival_date_month'] + '-' + df7['arrival_date_year']\n",
    "df7['arrival_date'] = pd.to_datetime(df7['arrival_date'], errors = 'coerce')"
   ]
  },
  {
   "cell_type": "code",
   "execution_count": 56,
   "id": "58c4bdd5-31a6-467e-a603-c394631439d0",
   "metadata": {},
   "outputs": [],
   "source": [
    "# Changing arrival_date_month column to show month number instead of month name\n",
    "\n",
    "import datetime as dt\n",
    "\n",
    "df7['arrival_date_month'] = df7['arrival_date'].dt.month"
   ]
  },
  {
   "cell_type": "markdown",
   "id": "859e0b94-0013-46a8-ab61-2a56eb4eaec8",
   "metadata": {},
   "source": [
    "#### 'total_nights'"
   ]
  },
  {
   "cell_type": "code",
   "execution_count": 65,
   "id": "1d2beb34-643c-476f-9d8c-22458f5bff2c",
   "metadata": {},
   "outputs": [],
   "source": [
    "# Creating 'total_nights'\n",
    "df7['total_nights'] = df7['stays_in_weekend_nights'] + df7['stays_in_weekdays_nights']\n",
    "df7.drop(['stays_in_weekend_nights', 'stays_in_weekdays_nights'], axis=1, inplace=True)"
   ]
  },
  {
   "cell_type": "code",
   "execution_count": 69,
   "id": "06997d87-7733-497f-8d58-30c29377328d",
   "metadata": {},
   "outputs": [
    {
     "name": "stdout",
     "output_type": "stream",
     "text": [
      "<class 'pandas.core.frame.DataFrame'>\n",
      "Int64Index: 84681 entries, 0 to 119389\n",
      "Data columns (total 25 columns):\n",
      " #   Column                          Non-Null Count  Dtype         \n",
      "---  ------                          --------------  -----         \n",
      " 0   hotel                           84681 non-null  object        \n",
      " 1   is_canceled                     84681 non-null  int64         \n",
      " 2   lead_time                       84681 non-null  int64         \n",
      " 3   adults                          84681 non-null  int64         \n",
      " 4   children                        84681 non-null  int64         \n",
      " 5   meal                            84681 non-null  object        \n",
      " 6   city                            84681 non-null  object        \n",
      " 7   market_segment                  84681 non-null  object        \n",
      " 8   distribution_channel            84681 non-null  object        \n",
      " 9   is_repeated_guest               84681 non-null  int64         \n",
      " 10  previous_cancellations          84681 non-null  int64         \n",
      " 11  previous_bookings_not_canceled  84681 non-null  int64         \n",
      " 12  booking_changes                 84681 non-null  int64         \n",
      " 13  deposit_type                    84681 non-null  object        \n",
      " 14  agent                           84681 non-null  float64       \n",
      " 15  company                         84681 non-null  float64       \n",
      " 16  days_in_waiting_list            84681 non-null  int64         \n",
      " 17  customer_type                   84681 non-null  object        \n",
      " 18  adr                             84681 non-null  float64       \n",
      " 19  required_car_parking_spaces     84681 non-null  int64         \n",
      " 20  total_of_special_requests       84681 non-null  int64         \n",
      " 21  reservation_status              84681 non-null  object        \n",
      " 22  total_guests                    84681 non-null  int64         \n",
      " 23  arrival_date                    84681 non-null  datetime64[ns]\n",
      " 24  total_nights                    84681 non-null  int64         \n",
      "dtypes: datetime64[ns](1), float64(3), int64(13), object(8)\n",
      "memory usage: 16.8+ MB\n"
     ]
    }
   ],
   "source": [
    "df7.info()"
   ]
  },
  {
   "cell_type": "code",
   "execution_count": null,
   "id": "e1d88bd8-a483-4a36-b69c-21d47785b2f2",
   "metadata": {},
   "outputs": [],
   "source": []
  }
 ],
 "metadata": {
  "kernelspec": {
   "display_name": "Python 3 (ipykernel)",
   "language": "python",
   "name": "python3"
  },
  "language_info": {
   "codemirror_mode": {
    "name": "ipython",
    "version": 3
   },
   "file_extension": ".py",
   "mimetype": "text/x-python",
   "name": "python",
   "nbconvert_exporter": "python",
   "pygments_lexer": "ipython3",
   "version": "3.9.13"
  }
 },
 "nbformat": 4,
 "nbformat_minor": 5
}
